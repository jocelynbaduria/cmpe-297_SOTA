{
  "nbformat": 4,
  "nbformat_minor": 0,
  "metadata": {
    "colab": {
      "name": "Reptile_MAML.ipynb",
      "provenance": [],
      "collapsed_sections": [],
      "authorship_tag": "ABX9TyMw9xwY/UfNjYSvm4QBDEWQ",
      "include_colab_link": true
    },
    "kernelspec": {
      "name": "python3",
      "display_name": "Python 3"
    },
    "language_info": {
      "name": "python"
    },
    "accelerator": "GPU"
  },
  "cells": [
    {
      "cell_type": "markdown",
      "metadata": {
        "id": "view-in-github",
        "colab_type": "text"
      },
      "source": [
        "<a href=\"https://colab.research.google.com/github/jocelynbaduria/cmpe-297_SOTA/blob/main/Reptile_MAML.ipynb\" target=\"_parent\"><img src=\"https://colab.research.google.com/assets/colab-badge.svg\" alt=\"Open In Colab\"/></a>"
      ]
    },
    {
      "cell_type": "markdown",
      "metadata": {
        "id": "ysfRTEymeQIN"
      },
      "source": [
        "a) Implement reptile MAML algorithm for meta learning on a small dataset from scratch (the goal is to learn data set preparation step, meta learning concepts etc,.)\n",
        "\n",
        "(Hint : https://keras.io/examples/vision/reptile/ )"
      ]
    },
    {
      "cell_type": "markdown",
      "metadata": {
        "id": "xOhFO2_0iVth"
      },
      "source": [
        "### 1. Import Modules"
      ]
    },
    {
      "cell_type": "code",
      "metadata": {
        "id": "nAorgu1jeJ08"
      },
      "source": [
        "import matplotlib.pyplot as plt\n",
        "import numpy as np\n",
        "import random \n",
        "import tensorflow as tf\n",
        "from tensorflow import keras\n",
        "from tensorflow.keras import layers\n",
        "import tensorflow_datasets as tfds"
      ],
      "execution_count": 1,
      "outputs": []
    },
    {
      "cell_type": "markdown",
      "metadata": {
        "id": "QScZnleHibUW"
      },
      "source": [
        "### 2. Define the Hyperparameters"
      ]
    },
    {
      "cell_type": "code",
      "metadata": {
        "id": "o9UdpAY4ifCW"
      },
      "source": [
        "learning_rate = 0.003\n",
        "meta_step_size = 0.25\n",
        "\n",
        "inner_batch_size = 25\n",
        "eval_batch_size = 25\n",
        "\n",
        "meta_iters = 2000\n",
        "eval_iters = 5\n",
        "inner_iters = 4\n",
        "\n",
        "eval_interval = 1\n",
        "train_shots = 20\n",
        "shots = 5\n",
        "classes = 5"
      ],
      "execution_count": 2,
      "outputs": []
    },
    {
      "cell_type": "markdown",
      "metadata": {
        "id": "5MGRCQbQjALs"
      },
      "source": [
        "### 3. Prepare Small Dataset for training"
      ]
    },
    {
      "cell_type": "code",
      "metadata": {
        "id": "2Vhx7VD1jEd7"
      },
      "source": [
        "class Dataset:\n",
        "  ## Initialize the dataset preparation\n",
        "  def __init__(self, training):\n",
        "    # Download the tfrecords files containing the small dataset\n",
        "    split = \"train\" if training else \"test\"\n",
        "    ds = tfds.load('mnist', split=split, as_supervised=True, shuffle_files=False, try_gcs=True)\n",
        "    self.data = {}\n",
        "\n",
        "    ## Extract image and label function\n",
        "    def extraction(image, label):\n",
        "      image = tf.image.convert_image_dtype(image, tf.float32)\n",
        "      # image = tf.image.rgb_to_grayscale(image)\n",
        "      image = tf.image.resize(image, [28, 28])\n",
        "      return image, label\n",
        "\n",
        "    ## apply the extraction function to fetch the images loaded in dataset(ds)\n",
        "    for image, label in ds.map(extraction):\n",
        "      image = image.numpy()\n",
        "      label = str(label.numpy())\n",
        "      if label not in self.data:\n",
        "        self.data[label] = []\n",
        "      self.data[label].append(image)\n",
        "    self.labels = list(self.data.keys())\n",
        "\n",
        "  def get_mini_dataset(self, batch_size, repetitions, shots, num_classes, split=False):\n",
        "    temp_labels = np.zeros(shape=(num_classes * shots))\n",
        "    temp_images = np.zeros(shape=(num_classes * shots, 28, 28, 1))\n",
        "    if split:\n",
        "      test_labels = np.zeros(shape=(num_classes))\n",
        "      test_images = np.zeros(shape=(num_classes, 28, 28, 1))\n",
        "\n",
        "      # Get random subset of labels from entire label set.\n",
        "    label_subset = random.choices(self.labels, k=num_classes)\n",
        "    for class_idx, class_obj in enumerate(label_subset):\n",
        "      ## Use enumerated index values as a temporary label for mini-batch in few shot learning.\n",
        "      temp_labels[class_idx * shots : (class_idx + 1) * shots] = class_idx\n",
        "      ## Select extra sample from each label to create a test dataset while doing a \n",
        "      ## split dataset\n",
        "      if split:\n",
        "          test_labels[class_idx] = class_idx\n",
        "          images_to_split = random.choices(\n",
        "          self.data[label_subset[class_idx]], k=shots + 1\n",
        "          )\n",
        "          test_images[class_idx] = images_to_split[-1]\n",
        "          temp_images[\n",
        "              class_idx * shots : (class_idx + 1) * shots\n",
        "          ] = images_to_split[:-1]\n",
        "      else:\n",
        "        ## Sample needed number of images for each index in randomly selected label_subset\n",
        "        temp_images[\n",
        "            class_idx * shots : (class_idx + 1) * shots\n",
        "        ] = random.choices(self.data[label_subset[class_idx]], k=shots)\n",
        "\n",
        "    dataset = tf.data.Dataset.from_tensor_slices(\n",
        "        (temp_images.astype(np.float32), temp_labels.astype(np.int32))\n",
        "    )\n",
        "    dataset = dataset.shuffle(100).batch(batch_size).repeat(repetitions)\n",
        "    if split: \n",
        "        return dataset, test_images, test_labels\n",
        "    return dataset\n",
        "\n",
        "import urllib3\n",
        "\n",
        "urllib3.disable_warnings() ## Disable SSL warnings that may happen during download\n",
        "train_dataset = Dataset(training=True)\n",
        "test_dataset = Dataset(training=False)"
      ],
      "execution_count": 7,
      "outputs": []
    },
    {
      "cell_type": "markdown",
      "metadata": {
        "id": "UTjp8G8Gx4tz"
      },
      "source": [
        "### 4. Visualize some examples from the datset"
      ]
    },
    {
      "cell_type": "code",
      "metadata": {
        "colab": {
          "base_uri": "https://localhost:8080/",
          "height": 1000
        },
        "id": "3E3f8eA2x9W-",
        "outputId": "e2a5bb08-f1d7-473d-9693-33e74c21fae7"
      },
      "source": [
        "_, axarr = plt.subplots(nrows=5, ncols=5, figsize=(20, 20))\n",
        "\n",
        "sample_keys = list(train_dataset.data.keys())\n",
        "\n",
        "for a in range(5):\n",
        "  for b in range(5):\n",
        "    temp_image = train_dataset.data[sample_keys[a]][b]\n",
        "    temp_image = np.stack((temp_image[:, :, 0],) * 3, axis=2)\n",
        "    temp_image *= 255\n",
        "    temp_image = np.clip(temp_image, 0, 255).astype(\"uint8\")\n",
        "    if b == 2:\n",
        "      axarr[a, b].set_title(\"Class : \" + sample_keys[a])\n",
        "    axarr[a, b].imshow(temp_image, cmap=\"gray\")\n",
        "    axarr[a, b].xaxis.set_visible(False)\n",
        "    axarr[a, b].yaxis.set_visible(False)\n",
        "plt.show()"
      ],
      "execution_count": 8,
      "outputs": [
        {
          "output_type": "display_data",
          "data": {
            "image/png": "[encoded data removed]",
            "text/plain": [
              "<Figure size 1440x1440 with 25 Axes>"
            ]
          },
          "metadata": {
            "needs_background": "light"
          }
        }
      ]
    },
    {
      "cell_type": "markdown",
      "metadata": {
        "id": "r72W6egx0oXM"
      },
      "source": [
        "### 5. Build the model"
      ]
    },
    {
      "cell_type": "code",
      "metadata": {
        "id": "4KfwJdS-0sRq"
      },
      "source": [
        "def conv_bn(x):\n",
        "  x = layers.Conv2D(filters=64, kernel_size=3, strides=2, padding=\"same\")(x)\n",
        "  x = layers.BatchNormalization()(x)\n",
        "  return layers.ReLU()(x)\n",
        "\n",
        "inputs = layers.Input(shape=(28, 28, 1))\n",
        "x = conv_bn(inputs)\n",
        "x = conv_bn(x)\n",
        "x = conv_bn(x)\n",
        "x = conv_bn(x)\n",
        "x = layers.Flatten()(x)\n",
        "outputs = layers.Dense(classes, activation=\"softmax\")(x)\n",
        "model = keras.Model(inputs=inputs, outputs=outputs)\n",
        "model.compile()\n",
        "optimizer = keras.optimizers.SGD(learning_rate=learning_rate)"
      ],
      "execution_count": 9,
      "outputs": []
    },
    {
      "cell_type": "markdown",
      "metadata": {
        "id": "HuKusGnt184p"
      },
      "source": [
        "### 6. Train the Model "
      ]
    },
    {
      "cell_type": "code",
      "metadata": {
        "colab": {
          "base_uri": "https://localhost:8080/"
        },
        "id": "8QHnxJBN1_qV",
        "outputId": "352ab4bc-f2d0-4361-8f48-4f5c0be101e0"
      },
      "source": [
        "training = []\n",
        "testing = []\n",
        "\n",
        "for meta_iter in range(meta_iters):\n",
        "  frac_done = meta_iter / meta_iters\n",
        "  cur_meta_step_size = (1 - frac_done) * meta_step_size\n",
        "  # Save weights temporarily from the model\n",
        "  old_vars = model.get_weights()\n",
        "  # Get sample from the full dataset\n",
        "  mini_dataset = train_dataset.get_mini_dataset(\n",
        "      inner_batch_size, inner_iters, train_shots, classes\n",
        "  )\n",
        "  for images, labels in mini_dataset:\n",
        "    with tf.GradientTape() as tape:\n",
        "      preds = model(images)\n",
        "      loss = keras.losses.sparse_categorical_crossentropy(labels, preds)\n",
        "    grads = tape.gradient(loss, model.trainable_weights)\n",
        "    optimizer.apply_gradients(zip(grads, model.trainable_weights))\n",
        "  new_vars = model.get_weights()\n",
        "\n",
        "  # Perform SGD for the meta step\n",
        "  for var in range(len(new_vars)):\n",
        "    new_vars[var] = old_vars[var] + (\n",
        "        (new_vars[var] - old_vars[var]) * cur_meta_step_size\n",
        "    )\n",
        "    # Reload the newly trained weights into the model after meta learning.\n",
        "    model.set_weights(new_vars)\n",
        "\n",
        "    # Evaluate the looping\n",
        "    if meta_iter % eval_interval == 0:\n",
        "      accuracies = []\n",
        "      for dataset in (train_dataset, test_dataset):\n",
        "        # Sample a mini dataset from the full dataset.\n",
        "        train_set, test_images, test_labels = dataset.get_mini_dataset(\n",
        "            eval_batch_size, eval_iters, shots, classes, split=True\n",
        "        )\n",
        "        old_vars = model.get_weights()\n",
        "        # Train on the sample and get the resulting accuracies.\n",
        "        for images, labels in train_set:\n",
        "          with tf.GradientTape() as tape:\n",
        "            preds = model(images)\n",
        "            loss = keras.losses.sparse_categorical_crossentropy(labels, preds)\n",
        "          grads = tape.gradient(loss, model.trainable_weights)\n",
        "          optimizer.apply_gradients(zip(grads, model.trainable_weights))\n",
        "        test_preds = model.predict(test_images)\n",
        "        test_preds = tf.argmax(test_preds).numpy()\n",
        "        num_correct = (test_preds == test_labels).sum()\n",
        "        # Reset the weights after getting the evaluation accuracies.\n",
        "        model.set_weights(old_vars)\n",
        "        accuracies.append(num_correct / classes)\n",
        "      training.append(accuracies[0])\n",
        "      testing.append(accuracies[1])\n",
        "      if meta_iter % 500 == 0:\n",
        "        print(\"batch %d: train=%f test=%f\" % (meta_iter, accuracies[0], accuracies[1]))"
      ],
      "execution_count": 10,
      "outputs": [
        {
          "output_type": "stream",
          "name": "stdout",
          "text": [
            "batch 0: train=0.400000 test=0.200000\n",
            "batch 0: train=0.200000 test=0.600000\n",
            "batch 0: train=0.200000 test=0.400000\n",
            "batch 0: train=0.600000 test=0.400000\n",
            "batch 0: train=0.600000 test=0.200000\n",
            "batch 0: train=0.600000 test=1.000000\n",
            "batch 0: train=1.000000 test=0.600000\n",
            "batch 0: train=0.400000 test=0.600000\n",
            "batch 0: train=0.400000 test=0.200000\n",
            "batch 0: train=0.200000 test=0.200000\n",
            "batch 0: train=0.600000 test=0.400000\n",
            "batch 0: train=0.400000 test=0.400000\n",
            "batch 0: train=0.400000 test=0.600000\n",
            "batch 0: train=0.400000 test=0.400000\n",
            "batch 0: train=0.200000 test=0.600000\n",
            "batch 0: train=0.400000 test=0.400000\n",
            "batch 0: train=0.600000 test=0.200000\n",
            "batch 0: train=0.200000 test=0.400000\n",
            "batch 0: train=0.400000 test=0.200000\n",
            "batch 0: train=0.400000 test=0.600000\n",
            "batch 0: train=0.400000 test=0.200000\n",
            "batch 0: train=0.000000 test=0.600000\n",
            "batch 0: train=0.000000 test=0.000000\n",
            "batch 0: train=0.400000 test=0.200000\n",
            "batch 0: train=0.200000 test=0.200000\n",
            "batch 0: train=0.000000 test=0.600000\n",
            "batch 500: train=0.000000 test=0.200000\n",
            "batch 500: train=0.600000 test=0.600000\n",
            "batch 500: train=0.400000 test=0.600000\n",
            "batch 500: train=0.400000 test=0.600000\n",
            "batch 500: train=0.400000 test=0.600000\n",
            "batch 500: train=0.600000 test=0.800000\n",
            "batch 500: train=0.800000 test=1.000000\n",
            "batch 500: train=0.600000 test=0.200000\n",
            "batch 500: train=0.800000 test=0.600000\n",
            "batch 500: train=0.600000 test=0.800000\n",
            "batch 500: train=1.000000 test=1.000000\n",
            "batch 500: train=0.600000 test=0.800000\n",
            "batch 500: train=0.800000 test=0.000000\n",
            "batch 500: train=0.600000 test=0.200000\n",
            "batch 500: train=0.200000 test=0.800000\n",
            "batch 500: train=0.200000 test=0.600000\n",
            "batch 500: train=0.400000 test=0.600000\n",
            "batch 500: train=0.400000 test=0.400000\n",
            "batch 500: train=0.800000 test=0.600000\n",
            "batch 500: train=0.200000 test=0.800000\n",
            "batch 500: train=0.400000 test=1.000000\n",
            "batch 500: train=0.800000 test=0.600000\n",
            "batch 500: train=1.000000 test=0.200000\n",
            "batch 500: train=0.400000 test=0.800000\n",
            "batch 500: train=0.600000 test=0.800000\n",
            "batch 500: train=0.600000 test=0.400000\n",
            "batch 1000: train=0.200000 test=1.000000\n",
            "batch 1000: train=0.200000 test=0.400000\n",
            "batch 1000: train=0.400000 test=0.400000\n",
            "batch 1000: train=0.800000 test=0.400000\n",
            "batch 1000: train=0.600000 test=0.200000\n",
            "batch 1000: train=0.200000 test=0.800000\n",
            "batch 1000: train=0.600000 test=0.800000\n",
            "batch 1000: train=1.000000 test=0.600000\n",
            "batch 1000: train=0.000000 test=0.200000\n",
            "batch 1000: train=0.200000 test=0.600000\n",
            "batch 1000: train=0.800000 test=0.600000\n",
            "batch 1000: train=0.600000 test=0.800000\n",
            "batch 1000: train=0.800000 test=0.400000\n",
            "batch 1000: train=0.600000 test=0.400000\n",
            "batch 1000: train=0.000000 test=0.600000\n",
            "batch 1000: train=0.400000 test=0.600000\n",
            "batch 1000: train=0.600000 test=0.800000\n",
            "batch 1000: train=0.400000 test=0.400000\n",
            "batch 1000: train=0.600000 test=0.600000\n",
            "batch 1000: train=0.600000 test=0.600000\n",
            "batch 1000: train=0.600000 test=0.800000\n",
            "batch 1000: train=0.600000 test=0.600000\n",
            "batch 1000: train=0.400000 test=0.800000\n",
            "batch 1000: train=0.600000 test=0.800000\n",
            "batch 1000: train=0.400000 test=0.400000\n",
            "batch 1000: train=0.400000 test=0.200000\n",
            "batch 1500: train=0.800000 test=0.400000\n",
            "batch 1500: train=0.600000 test=0.600000\n",
            "batch 1500: train=0.800000 test=0.800000\n",
            "batch 1500: train=0.600000 test=0.600000\n",
            "batch 1500: train=0.200000 test=0.200000\n",
            "batch 1500: train=0.800000 test=0.800000\n",
            "batch 1500: train=0.000000 test=0.400000\n",
            "batch 1500: train=0.400000 test=0.400000\n",
            "batch 1500: train=0.800000 test=0.400000\n",
            "batch 1500: train=0.200000 test=0.600000\n",
            "batch 1500: train=0.600000 test=1.000000\n",
            "batch 1500: train=0.800000 test=0.600000\n",
            "batch 1500: train=0.600000 test=0.800000\n",
            "batch 1500: train=0.200000 test=1.000000\n",
            "batch 1500: train=0.400000 test=0.400000\n",
            "batch 1500: train=0.600000 test=0.800000\n",
            "batch 1500: train=0.400000 test=0.600000\n",
            "batch 1500: train=0.400000 test=0.600000\n",
            "batch 1500: train=0.600000 test=0.600000\n",
            "batch 1500: train=0.600000 test=0.600000\n",
            "batch 1500: train=0.400000 test=0.600000\n",
            "batch 1500: train=0.400000 test=0.400000\n",
            "batch 1500: train=0.200000 test=0.600000\n",
            "batch 1500: train=0.000000 test=0.600000\n",
            "batch 1500: train=0.600000 test=0.400000\n",
            "batch 1500: train=0.400000 test=0.600000\n"
          ]
        }
      ]
    },
    {
      "cell_type": "markdown",
      "metadata": {
        "id": "aGLO-c5w8-bB"
      },
      "source": [
        "### 7. Visualize Results"
      ]
    },
    {
      "cell_type": "code",
      "metadata": {
        "colab": {
          "base_uri": "https://localhost:8080/",
          "height": 491
        },
        "id": "QBuvxWpt9DOb",
        "outputId": "70a6dec1-39b7-4b20-ea0d-0f59c882c6c3"
      },
      "source": [
        "# Preprocess to smooth the training and testing arrays for display\n",
        "window_length = 100\n",
        "train_s = np.r_[\n",
        "    training[window_length - 1 : 0 : -1], training, training[-1: window_length:-1]\n",
        "]\n",
        "test_s = np.r_[\n",
        "    testing [window_length - 1 : 0 : -1], testing, testing[-1: window_length:-1]\n",
        "]\n",
        "w = np.hamming(window_length)\n",
        "train_y = np.convolve(w / w.sum(), train_s, mode=\"valid\")\n",
        "test_y = np.convolve(w / w.sum(), test_s, mode=\"valid\")\n",
        "\n",
        "# Display the training accuracies\n",
        "x = np.arange(0, len(test_y), 1)\n",
        "plt.plot(x, test_y, x, train_y)\n",
        "plt.legend([\"test\", \"train\"])\n",
        "plt.grid()\n",
        "\n",
        "train_set, test_images, test_labels = dataset.get_mini_dataset(\n",
        "    eval_batch_size, eval_iters, shots, classes, split=True\n",
        ")\n",
        "for images, labels in train_set:\n",
        "  with tf.GradientTape() as tape:\n",
        "    preds = model(images)\n",
        "    loss = keras.losses.sparse_categorical_crossentropy(labels, preds)\n",
        "  grads = tape.gradient(loss, model.trainable_weights)\n",
        "  optimizer.apply_gradients(zip(grads, model.trainable_weights))\n",
        "test_preds = model.predict(test_images)\n",
        "test_preds = tf.argmax(test_preds).numpy()\n",
        "\n",
        "_, axarr = plt.subplots(nrows=1, ncols=5, figsize=(20, 20))\n",
        "\n",
        "sample_keys = list(train_dataset.data.keys())\n",
        "\n",
        "for i, ax in zip(range(5), axarr):\n",
        "  temp_image = np.stack((test_images[i, :, :, 0],) * 3, axis=2)\n",
        "  temp_image *= 255\n",
        "  temp_image = np.clip(temp_image, 0, 255).astype(\"uint8\")\n",
        "  ax.set_title(\n",
        "      \"Label : {}, Prediction : {}\".format(int(test_labels[i]), test_preds[i])\n",
        "  )\n",
        "  ax.imshow(temp_image, cmap=\"gray\")\n",
        "  ax.xaxis.set_visible(False)\n",
        "  ax.yaxis.set_visible(False)\n",
        "plt.show()"
      ],
      "execution_count": 13,
      "outputs": [
        {
          "output_type": "display_data",
          "data": {
            "image/png": "[encoded data removed]",
            "text/plain": [
              "<Figure size 432x288 with 1 Axes>"
            ]
          },
          "metadata": {
            "needs_background": "light"
          }
        },
        {
          "output_type": "display_data",
          "data": {
            "image/png": "[encoded data removed]",
            "text/plain": [
              "<Figure size 1440x1440 with 5 Axes>"
            ]
          },
          "metadata": {
            "needs_background": "light"
          }
        }
      ]
    }
  ]
}