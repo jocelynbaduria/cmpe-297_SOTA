{
  "nbformat": 4,
  "nbformat_minor": 0,
  "metadata": {
    "colab": {
      "name": "Sentiment_Anaylsis.ipynb",
      "provenance": [],
      "collapsed_sections": [],
      "authorship_tag": "ABX9TyNdOLpKod5x4EdkHTRMgfuh",
      "include_colab_link": true
    },
    "kernelspec": {
      "name": "python3",
      "display_name": "Python 3"
    },
    "language_info": {
      "name": "python"
    }
  },
  "cells": [
    {
      "cell_type": "markdown",
      "metadata": {
        "id": "view-in-github",
        "colab_type": "text"
      },
      "source": [
        "<a href=\"https://colab.research.google.com/github/jocelynbaduria/cmpe-297_SOTA/blob/main/Sentiment_Anaylsis.ipynb\" target=\"_parent\"><img src=\"https://colab.research.google.com/assets/colab-badge.svg\" alt=\"Open In Colab\"/></a>"
      ]
    },
    {
      "cell_type": "markdown",
      "metadata": {
        "id": "89l0Sf9SkKdA"
      },
      "source": [
        "ReadMe:\n",
        "\n",
        "Reference: \n",
        "\n",
        "https://towardsdatascience.com/building-nlp-web-apps-with-gradio-and-hugging-face-transformers-59ce8ab4a319\n",
        "\n",
        "\n",
        "\n",
        "1. Import Libraries and install some module gradio, wandb and transformers.\n",
        "\n",
        "2. Initialize  weights and biases (id = sentiment)\n",
        "\n",
        "3. Define the Sentiment Analysis function. Use the hugging face [pipeline](https://huggingface.co/transformers/main_classes/pipelines.html) to simmplify the example.\n",
        "\n",
        "4. Add Gradio app for testing.\n",
        "\n"
      ]
    },
    {
      "cell_type": "markdown",
      "metadata": {
        "id": "AkmiPdO4K9Bm"
      },
      "source": [
        "### 1. Import Libraries and install some module gradio, wandb and transformers."
      ]
    },
    {
      "cell_type": "code",
      "metadata": {
        "colab": {
          "base_uri": "https://localhost:8080/"
        },
        "id": "8I-jCntjK3uz",
        "outputId": "c10badcd-3ad4-4d67-e8ac-67fd114b814d"
      },
      "source": [
        "!pip install gradio -q\n",
        "# Install wandb for experiment tracking\n",
        "!pip install wandb --upgrade -q\n",
        "!pip install -q git+https://github.com/huggingface/transformers.git"
      ],
      "execution_count": 1,
      "outputs": [
        {
          "output_type": "stream",
          "name": "stdout",
          "text": [
            "\u001b[K     |████████████████████████████████| 2.0 MB 5.0 MB/s \n",
            "\u001b[K     |████████████████████████████████| 206 kB 59.1 MB/s \n",
            "\u001b[K     |████████████████████████████████| 1.9 MB 44.7 MB/s \n",
            "\u001b[K     |████████████████████████████████| 63 kB 1.1 MB/s \n",
            "\u001b[K     |████████████████████████████████| 961 kB 51.0 MB/s \n",
            "\u001b[K     |████████████████████████████████| 3.5 MB 39.8 MB/s \n",
            "\u001b[?25h  Building wheel for ffmpy (setup.py) ... \u001b[?25l\u001b[?25hdone\n",
            "  Building wheel for flask-cachebuster (setup.py) ... \u001b[?25l\u001b[?25hdone\n",
            "\u001b[K     |████████████████████████████████| 1.7 MB 5.2 MB/s \n",
            "\u001b[K     |████████████████████████████████| 97 kB 6.3 MB/s \n",
            "\u001b[K     |████████████████████████████████| 180 kB 52.2 MB/s \n",
            "\u001b[K     |████████████████████████████████| 139 kB 49.7 MB/s \n",
            "\u001b[K     |████████████████████████████████| 63 kB 1.7 MB/s \n",
            "\u001b[?25h  Building wheel for subprocess32 (setup.py) ... \u001b[?25l\u001b[?25hdone\n",
            "  Building wheel for pathtools (setup.py) ... \u001b[?25l\u001b[?25hdone\n",
            "  Installing build dependencies ... \u001b[?25l\u001b[?25hdone\n",
            "  Getting requirements to build wheel ... \u001b[?25l\u001b[?25hdone\n",
            "    Preparing wheel metadata ... \u001b[?25l\u001b[?25hdone\n",
            "\u001b[K     |████████████████████████████████| 56 kB 2.5 MB/s \n",
            "\u001b[K     |████████████████████████████████| 895 kB 9.1 MB/s \n",
            "\u001b[K     |████████████████████████████████| 3.3 MB 25.6 MB/s \n",
            "\u001b[K     |████████████████████████████████| 596 kB 58.4 MB/s \n",
            "\u001b[?25h  Building wheel for transformers (PEP 517) ... \u001b[?25l\u001b[?25hdone\n"
          ]
        }
      ]
    },
    {
      "cell_type": "code",
      "metadata": {
        "id": "q5r5JQ-9PVAJ"
      },
      "source": [
        "import gradio as gr\n",
        "import re\n",
        "\n",
        "from transformers import pipeline"
      ],
      "execution_count": 4,
      "outputs": []
    },
    {
      "cell_type": "markdown",
      "metadata": {
        "id": "GyzyPflPGouq"
      },
      "source": [
        "### 2. Initialize  weights and biases (id = sentiment)"
      ]
    },
    {
      "cell_type": "code",
      "metadata": {
        "colab": {
          "base_uri": "https://localhost:8080/",
          "height": 85
        },
        "id": "qB1u62eZSD4I",
        "outputId": "c123f4f3-0420-4dab-f445-583469de4288"
      },
      "source": [
        "import torch\n",
        "# Other imports \n",
        "import wandb\n",
        "wandb.login()\n",
        "# from wandb.keras import WandbCallback\n",
        "from tqdm import tqdm\n",
        "wandb.init(project=\"Sentiment_Analysis\", entity=\"jocelynbaduria\", id=\"sentiment\")\n",
        "# 2. Save model inputs and hyperparameters\n",
        "config = wandb.config\n",
        "config.learning_rate = 0.01"
      ],
      "execution_count": 6,
      "outputs": [
        {
          "output_type": "display_data",
          "data": {
            "application/javascript": [
              "\n",
              "        window._wandbApiKey = new Promise((resolve, reject) => {\n",
              "            function loadScript(url) {\n",
              "            return new Promise(function(resolve, reject) {\n",
              "                let newScript = document.createElement(\"script\");\n",
              "                newScript.onerror = reject;\n",
              "                newScript.onload = resolve;\n",
              "                document.body.appendChild(newScript);\n",
              "                newScript.src = url;\n",
              "            });\n",
              "            }\n",
              "            loadScript(\"https://cdn.jsdelivr.net/npm/postmate/build/postmate.min.js\").then(() => {\n",
              "            const iframe = document.createElement('iframe')\n",
              "            iframe.style.cssText = \"width:0;height:0;border:none\"\n",
              "            document.body.appendChild(iframe)\n",
              "            const handshake = new Postmate({\n",
              "                container: iframe,\n",
              "                url: 'https://wandb.ai/authorize'\n",
              "            });\n",
              "            const timeout = setTimeout(() => reject(\"Couldn't auto authenticate\"), 5000)\n",
              "            handshake.then(function(child) {\n",
              "                child.on('authorize', data => {\n",
              "                    clearTimeout(timeout)\n",
              "                    resolve(data)\n",
              "                });\n",
              "            });\n",
              "            })\n",
              "        });\n",
              "    "
            ],
            "text/plain": [
              "<IPython.core.display.Javascript object>"
            ]
          },
          "metadata": {}
        },
        {
          "output_type": "stream",
          "name": "stderr",
          "text": [
            "\u001b[34m\u001b[1mwandb\u001b[0m: Appending key for api.wandb.ai to your netrc file: /root/.netrc\n",
            "\u001b[34m\u001b[1mwandb\u001b[0m: Currently logged in as: \u001b[33mjocelynbaduria\u001b[0m (use `wandb login --relogin` to force relogin)\n"
          ]
        },
        {
          "output_type": "display_data",
          "data": {
            "text/html": [
              "\n",
              "                    Syncing run <strong><a href=\"https://wandb.ai/jocelynbaduria/Sentiment_Analysis/runs/sentiment\" target=\"_blank\">sentiment</a></strong> to <a href=\"https://wandb.ai/jocelynbaduria/Sentiment_Analysis\" target=\"_blank\">Weights & Biases</a> (<a href=\"https://docs.wandb.com/integrations/jupyter.html\" target=\"_blank\">docs</a>).<br/>\n",
              "\n",
              "                "
            ],
            "text/plain": [
              "<IPython.core.display.HTML object>"
            ]
          },
          "metadata": {}
        }
      ]
    },
    {
      "cell_type": "markdown",
      "metadata": {
        "id": "7fNndz7oPUxb"
      },
      "source": [
        "### 3. Define the Sentiment Analysis function. Use the hugging face pipeline to simmplify the example.\n"
      ]
    },
    {
      "cell_type": "code",
      "metadata": {
        "colab": {
          "base_uri": "https://localhost:8080/"
        },
        "id": "xjewI76jPo5Y",
        "outputId": "73c73de7-133a-484d-e3fb-8b1885aeeb37"
      },
      "source": [
        "sentiment = pipeline(\"sentiment-analysis\")\n",
        "# you can swop out \"sentiment-analysis\" for other task identifiers such as \"summarization\" or \"zero-shot-classification\".\n",
        "\n",
        "# I've added optional lines for text cleaning\n",
        "# note that the sentiment-analysis pipeline returns 2 values - a label and a score\n",
        "def sentiment_analysis(text):\n",
        "  text = text.encode(\"ascii\", errors=\"ignore\").decode(\n",
        "      \"ascii\"\n",
        "  ) # remove non-ascii, chinese characters\n",
        "  text = text.lower() # lower case\n",
        "  text = re.sub(r\"\\n\", \" \", text)\n",
        "  text = re.sub(\"\\n\\n\", \" \", text)\n",
        "  text = re.sub(\"\\t\", \" \", text)\n",
        "  text = text.strip(\" \")\n",
        "  text = re.sub(r\"[\\w\\s]\", \"\", text) # remove punctuation and special characters\n",
        "  text = re.sub(\n",
        "      \" +\", \" \", text\n",
        "  ).strip() # get rid of multiple space and replace with a singel\n",
        "  results = sentiment(text)\n",
        "  return results[0][\"label\"], round(results[0][\"score\"], 5)"
      ],
      "execution_count": 7,
      "outputs": [
        {
          "output_type": "stream",
          "name": "stderr",
          "text": [
            "No model was supplied, defaulted to distilbert-base-uncased-finetuned-sst-2-english (https://huggingface.co/distilbert-base-uncased-finetuned-sst-2-english)\n"
          ]
        }
      ]
    },
    {
      "cell_type": "markdown",
      "metadata": {
        "id": "AYwbBFR8R0vK"
      },
      "source": [
        "### 4. Add gradio App for Testing"
      ]
    },
    {
      "cell_type": "code",
      "metadata": {
        "id": "vahUuN1cSSio"
      },
      "source": [
        "gradio_ui = gr.Interface(\n",
        "    fn=sentiment_analysis, \n",
        "    description =\"Enter some text and let Distilbert model gauge the sentiment analysis\",\n",
        "    inputs=gr.inputs.Textbox(lines=10, label=\"Paste some text here\"),\n",
        "    outputs=[\n",
        "             gr.outputs.Textbox(label=\"Sentiment Label\"),\n",
        "             gr.outputs.Textbox(label=\"Sentiment Score\"),\n",
        "    ],\n",
        ")"
      ],
      "execution_count": 8,
      "outputs": []
    },
    {
      "cell_type": "code",
      "metadata": {
        "colab": {
          "base_uri": "https://localhost:8080/",
          "height": 623
        },
        "id": "ZSr2Gr0MTNmU",
        "outputId": "b459d3b6-7a3f-43c0-c83b-1f3d0f52d8e6"
      },
      "source": [
        "gradio_ui.launch()"
      ],
      "execution_count": 9,
      "outputs": [
        {
          "output_type": "stream",
          "name": "stdout",
          "text": [
            "Colab notebook detected. To show errors in colab notebook, set `debug=True` in `launch()`\n",
            "This share link will expire in 72 hours. If you need a permanent link, visit: https://gradio.app/introducing-hosted\n",
            "Running on External URL: https://57316.gradio.app\n"
          ]
        },
        {
          "output_type": "display_data",
          "data": {
            "text/html": [
              "\n",
              "        <iframe\n",
              "            width=\"900\"\n",
              "            height=\"500\"\n",
              "            src=\"https://57316.gradio.app\"\n",
              "            frameborder=\"0\"\n",
              "            allowfullscreen\n",
              "        ></iframe>\n",
              "        "
            ],
            "text/plain": [
              "<IPython.lib.display.IFrame at 0x7fe14f8d68d0>"
            ]
          },
          "metadata": {}
        },
        {
          "output_type": "execute_result",
          "data": {
            "text/plain": [
              "(<Flask 'gradio.networking'>,\n",
              " 'http://127.0.0.1:7860/',\n",
              " 'https://57316.gradio.app')"
            ]
          },
          "metadata": {},
          "execution_count": 9
        }
      ]
    }
  ]
}